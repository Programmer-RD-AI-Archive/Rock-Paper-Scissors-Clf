{
 "cells": [
  {
   "cell_type": "code",
   "execution_count": 1,
   "id": "bed9f28a-2a98-4771-a19b-3555b345ff73",
   "metadata": {},
   "outputs": [],
   "source": [
    "from sklearn.model_selection import train_test_split\n",
    "import os,cv2\n",
    "import numpy as np\n",
    "import matplotlib.pyplot as plt\n",
    "from torch.nn import *\n",
    "import torch,torchvision\n",
    "from tqdm import tqdm\n",
    "device = 'cuda'\n",
    "PROJECT_NAME = 'Rock-Paper-Scissors-Clf'"
   ]
  },
  {
   "cell_type": "code",
   "execution_count": 2,
   "id": "00c5c06d-5bff-4f7b-af23-81048dccda29",
   "metadata": {},
   "outputs": [],
   "source": [
    "def load_data():\n",
    "    labels = {}\n",
    "    labels_r = {}\n",
    "    data = []\n",
    "    idx = -1\n",
    "    for folder in tqdm(os.listdir('./data/')):\n",
    "        idx += 1\n",
    "        labels[idx] = folder\n",
    "        labels_r[folder] = idx\n",
    "        for file in os.listdir(f'./data/{folder}'):\n",
    "            img = f'./data/{folder}/{file}'\n",
    "            img = cv2.imread(img)\n",
    "            img = cv2.resize(img,(112,112))\n",
    "            data.append([img/255.0,idx])\n",
    "    np.random.shuffle(data)\n",
    "    X = []\n",
    "    y = []\n",
    "    for d in data:\n",
    "        X.append(d[0])\n",
    "        y.append(d[1])\n",
    "    X_train,X_test,y_train,y_test = train_test_split(X,y,test_size=0.25,shuffle=False)\n",
    "    return X_train,X_test,y_train,y_test,X,y,data,idx,labels,labels_r"
   ]
  },
  {
   "cell_type": "code",
   "execution_count": null,
   "id": "628c71e5-8bcb-4a54-a7b4-db3e969bd458",
   "metadata": {},
   "outputs": [
    {
     "name": "stderr",
     "output_type": "stream",
     "text": [
      "  0%|                                                     | 0/3 [00:00<?, ?it/s]"
     ]
    }
   ],
   "source": [
    "X_train,X_test,y_train,y_test,X,y,data,idx,labels,labels_r = load_data()"
   ]
  },
  {
   "cell_type": "code",
   "execution_count": null,
   "id": "7c52c987-c473-4c33-ad27-74d493d6f3b1",
   "metadata": {},
   "outputs": [],
   "source": [
    "X_train = torch.from_numpy(np.array(X_train)).view(-1,3,112,112).to(device).float()\n",
    "X_test = torch.from_numpy(np.array(X_test)).view(-1,3,112,112).to(device).float()\n",
    "y_train = torch.from_numpy(np.array(y_train)).to(device)\n",
    "y_test = torch.from_numpy(np.array(y_test)).to(device)"
   ]
  },
  {
   "cell_type": "code",
   "execution_count": null,
   "id": "0dba29b3-9835-4016-aed8-a570761a584d",
   "metadata": {},
   "outputs": [],
   "source": [
    "def get_loss(model,X,y,criterion):\n",
    "    preds = model(X)\n",
    "    loss = criterion(preds,y)\n",
    "    return loss.item()"
   ]
  },
  {
   "cell_type": "code",
   "execution_count": null,
   "id": "2177a656-5906-438c-8363-c0536e2238b5",
   "metadata": {},
   "outputs": [],
   "source": [
    "def get_accuracy(model,X,y):\n",
    "    correct = 0\n",
    "    total = 0\n",
    "    preds = model(X)\n",
    "    for pred,y_batch in zip(preds,y):\n",
    "        pred = int(torch.argmax(pred))\n",
    "        if pred == y_batch:\n",
    "            correct += 1\n",
    "        total += 1\n",
    "    acc = round(correct/total,3)*100\n",
    "    return acc"
   ]
  },
  {
   "cell_type": "code",
   "execution_count": null,
   "id": "7380bdcd-e6b6-4917-ade5-075364e93915",
   "metadata": {},
   "outputs": [],
   "source": [
    "def get_pred(model):\n",
    "    model.eval()\n",
    "    for file in os.listdir('./test_data/'):\n",
    "        img = cv2.imread(f'./test_data/{file}')\n",
    "        img = cv2.resize(img,(112,112))\n",
    "        img = torch.from_numpy(np.array(img)).to(device).view(-1,3,112,112).float()\n",
    "        pred = model(img)\n",
    "        pred = torch.argmax(pred)\n",
    "        plt.figure(figsize=(12,6))\n",
    "        plt.imshow(img.view(112,112,3).cpu().detach().numpy())\n",
    "        plt.title(f'{labels[pred]}')\n",
    "        plt.savefig(f'./preds/{file}')\n",
    "        plt.close()\n",
    "    model.train()"
   ]
  },
  {
   "cell_type": "code",
   "execution_count": null,
   "id": "2d4851c7-1f8e-41eb-8704-7687868318da",
   "metadata": {},
   "outputs": [],
   "source": [
    "class Model(Module):\n",
    "    def __init__(self):\n",
    "        super().__init__()\n",
    "        self.max_pool2d = MaxPool2d((2,2),(2,2))\n",
    "        self.activation = ReLU()\n",
    "        self.conv1 = Conv2d(3,6,(2,2))\n",
    "        self.conv1batchnorm = BatchNorm2d(6)\n",
    "        self.conv2 = Conv2d(6,9,(3,3))\n",
    "        self.conv2batchnorm = BatchNorm2d(9)\n",
    "        self.conv3 = Conv2d(9,12,(2,2))\n",
    "        self.conv3batchnorm = BatchNorm2d(12)\n",
    "        self.conv4 = Conv2d(12,15,(3,3))\n",
    "        self.conv4batchnorm = BatchNorm2d(15)\n",
    "        self.linear1 = Linear(15*5*5,256)\n",
    "        self.linear1batchnorm = BatchNorm1d(256)\n",
    "        self.linear2 = Linear(256,512)\n",
    "        self.linear2batchnorm = BatchNorm1d(512)\n",
    "        self.linear3 = Linear(512,1024)\n",
    "        self.linear3batchnorm = BatchNorm1d(1024)\n",
    "        self.linear4 = Linear(1024,512)\n",
    "        self.linear4batchnorm = BatchNorm1d(512)\n",
    "        self.output = Linear(512,3)\n",
    "    \n",
    "    def forward(self,X):\n",
    "        preds = self.max_pool2d(self.activation(self.conv1batchnorm(self.conv1(X))))\n",
    "        preds = self.max_pool2d(self.activation(self.conv2batchnorm(self.conv2(preds))))\n",
    "        preds = self.max_pool2d(self.activation(self.conv3batchnorm(self.conv3(preds))))\n",
    "        preds = self.max_pool2d(self.activation(self.conv4batchnorm(self.conv4(preds))))\n",
    "        preds = preds.view(-1,15*5*5)\n",
    "        preds =self.activation(self.linear1batchnorm(self.linear1(preds)))\n",
    "        preds =self.activation(self.linear2batchnorm(self.linear2(preds)))\n",
    "        preds =self.activation(self.linear3batchnorm(self.linear3(preds)))\n",
    "        preds =self.activation(self.linear4batchnorm(self.linear4(preds)))\n",
    "        preds = self.output(preds)\n",
    "        return preds"
   ]
  },
  {
   "cell_type": "code",
   "execution_count": null,
   "id": "f818ee9f-f3a4-4973-acb6-46862612db48",
   "metadata": {},
   "outputs": [],
   "source": [
    "model = Model().to(device)"
   ]
  },
  {
   "cell_type": "code",
   "execution_count": null,
   "id": "62337d5e-d6cf-44f9-bfaf-5d859daff688",
   "metadata": {},
   "outputs": [],
   "source": [
    "criterion = CrossEntropyLoss()"
   ]
  },
  {
   "cell_type": "code",
   "execution_count": null,
   "id": "9035f753-1154-4ed0-9637-354eb0766952",
   "metadata": {},
   "outputs": [],
   "source": [
    "from torch.optim import *"
   ]
  },
  {
   "cell_type": "code",
   "execution_count": null,
   "id": "54123e42-4dcd-4e77-9c11-34b0f39337b8",
   "metadata": {},
   "outputs": [],
   "source": [
    "optimizer = Adam(model.parameters(),lr=0.001)"
   ]
  },
  {
   "cell_type": "code",
   "execution_count": null,
   "id": "e92065ac-df51-43b8-89b6-0930a0171f58",
   "metadata": {},
   "outputs": [],
   "source": [
    "epochs = 100"
   ]
  },
  {
   "cell_type": "code",
   "execution_count": null,
   "id": "00f0d25f-82e1-4133-a56e-8c450b681688",
   "metadata": {},
   "outputs": [],
   "source": [
    "batch_size = 32"
   ]
  },
  {
   "cell_type": "code",
   "execution_count": null,
   "id": "5365e3bc-84d0-489e-b7fe-0442afd9c225",
   "metadata": {},
   "outputs": [],
   "source": [
    "import wandb"
   ]
  },
  {
   "cell_type": "code",
   "execution_count": null,
   "id": "bb64036c-4e28-415e-b807-117f0b480f4b",
   "metadata": {},
   "outputs": [],
   "source": [
    "wandb.init(project=PROJECT_NAME,name='baseline')\n",
    "for _ in tqdm(range(epochs)):\n",
    "    for idx in range(0,len(X_train),batch_size):\n",
    "        X_batch = X_train[idx:idx+batch_size].view(-1,3,112,112).to(device).float()\n",
    "        y_batch = y_train[idx:idx+batch_size].to(device).float()\n",
    "        preds = model(X_batch)\n",
    "        loss = criterion(preds,y_batch)\n",
    "        optimizer.zero_grad()\n",
    "        loss.backward()\n",
    "        optimizer.step()\n",
    "    wandb.log({'Loss':get_loss(model,X_train,y_train,criterion)})\n",
    "    wandb.log({'Val Loss':get_loss(model,X_test,y_test,criterion)})\n",
    "    wandb.log({'Acc':get_accuracy(model,X_train,y_train)})\n",
    "    wandb.log({'Val Acc':get_accuracy(model,X_test,y_test)})\n",
    "    get_pred(model)\n",
    "    for file in os.listdir('./preds/'):\n",
    "        wandb.log({f'Img/{file}':wandb.Image(cv2.imread(f'./preds/{file}'))})\n",
    "wandb.finish()"
   ]
  },
  {
   "cell_type": "code",
   "execution_count": null,
   "id": "2a12fef3-4b3c-40c1-a3f6-fe8d8e4b76ee",
   "metadata": {},
   "outputs": [],
   "source": []
  }
 ],
 "metadata": {
  "kernelspec": {
   "display_name": "Python 3.7.3 64-bit ('base': conda)",
   "language": "python",
   "name": "python373jvsc74a57bd0210f9608a45c0278a93c9e0b10db32a427986ab48cfc0d20c139811eb78c4bbc"
  },
  "language_info": {
   "codemirror_mode": {
    "name": "ipython",
    "version": 3
   },
   "file_extension": ".py",
   "mimetype": "text/x-python",
   "name": "python",
   "nbconvert_exporter": "python",
   "pygments_lexer": "ipython3",
   "version": "3.7.11"
  }
 },
 "nbformat": 4,
 "nbformat_minor": 5
}
